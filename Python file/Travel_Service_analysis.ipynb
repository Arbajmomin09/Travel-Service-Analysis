{
 "cells": [
  {
   "cell_type": "markdown",
   "id": "4d051029",
   "metadata": {},
   "source": [
    "# # Travel Service Analysis"
   ]
  },
  {
   "cell_type": "markdown",
   "id": "5b3c79e0",
   "metadata": {},
   "source": [
    "# Importing all essential libraries: pandas, NumPy, Matplotlib, and Seaborn."
   ]
  },
  {
   "cell_type": "code",
   "execution_count": 27,
   "id": "22fd9cda",
   "metadata": {},
   "outputs": [],
   "source": [
    "import pandas as pd\n",
    "import numpy as np\n",
    "import matplotlib.pyplot as plt\n",
    "import seaborn as sns"
   ]
  },
  {
   "cell_type": "markdown",
   "id": "f8d7b2e1",
   "metadata": {},
   "source": [
    "# Importing the dataframe and naming it as df."
   ]
  },
  {
   "cell_type": "code",
   "execution_count": 28,
   "id": "c8ac6825",
   "metadata": {},
   "outputs": [],
   "source": [
    "df=pd.read_csv(r\"C:/Power_BI/Project/Data/train.csv\")"
   ]
  },
  {
   "cell_type": "code",
   "execution_count": 29,
   "id": "e33160ff",
   "metadata": {},
   "outputs": [
    {
     "data": {
      "text/html": [
       "<div>\n",
       "<style scoped>\n",
       "    .dataframe tbody tr th:only-of-type {\n",
       "        vertical-align: middle;\n",
       "    }\n",
       "\n",
       "    .dataframe tbody tr th {\n",
       "        vertical-align: top;\n",
       "    }\n",
       "\n",
       "    .dataframe thead th {\n",
       "        text-align: right;\n",
       "    }\n",
       "</style>\n",
       "<table border=\"1\" class=\"dataframe\">\n",
       "  <thead>\n",
       "    <tr style=\"text-align: right;\">\n",
       "      <th></th>\n",
       "      <th>id</th>\n",
       "      <th>vendor_id</th>\n",
       "      <th>pickup_datetime</th>\n",
       "      <th>dropoff_datetime</th>\n",
       "      <th>passenger_count</th>\n",
       "      <th>pickup_longitude</th>\n",
       "      <th>pickup_latitude</th>\n",
       "      <th>dropoff_longitude</th>\n",
       "      <th>dropoff_latitude</th>\n",
       "      <th>store_and_fwd_flag</th>\n",
       "      <th>trip_duration</th>\n",
       "    </tr>\n",
       "  </thead>\n",
       "  <tbody>\n",
       "    <tr>\n",
       "      <th>0</th>\n",
       "      <td>id2875421</td>\n",
       "      <td>2</td>\n",
       "      <td>2016-03-14 17:24:55</td>\n",
       "      <td>2016-03-14 17:32:30</td>\n",
       "      <td>1</td>\n",
       "      <td>-73.982155</td>\n",
       "      <td>40.767937</td>\n",
       "      <td>-73.964630</td>\n",
       "      <td>40.765602</td>\n",
       "      <td>N</td>\n",
       "      <td>455</td>\n",
       "    </tr>\n",
       "    <tr>\n",
       "      <th>1</th>\n",
       "      <td>id2377394</td>\n",
       "      <td>1</td>\n",
       "      <td>2016-06-12 00:43:35</td>\n",
       "      <td>2016-06-12 00:54:38</td>\n",
       "      <td>1</td>\n",
       "      <td>-73.980415</td>\n",
       "      <td>40.738564</td>\n",
       "      <td>-73.999481</td>\n",
       "      <td>40.731152</td>\n",
       "      <td>N</td>\n",
       "      <td>663</td>\n",
       "    </tr>\n",
       "    <tr>\n",
       "      <th>2</th>\n",
       "      <td>id3858529</td>\n",
       "      <td>2</td>\n",
       "      <td>2016-01-19 11:35:24</td>\n",
       "      <td>2016-01-19 12:10:48</td>\n",
       "      <td>1</td>\n",
       "      <td>-73.979027</td>\n",
       "      <td>40.763939</td>\n",
       "      <td>-74.005333</td>\n",
       "      <td>40.710087</td>\n",
       "      <td>N</td>\n",
       "      <td>2124</td>\n",
       "    </tr>\n",
       "    <tr>\n",
       "      <th>3</th>\n",
       "      <td>id3504673</td>\n",
       "      <td>2</td>\n",
       "      <td>2016-04-06 19:32:31</td>\n",
       "      <td>2016-04-06 19:39:40</td>\n",
       "      <td>1</td>\n",
       "      <td>-74.010040</td>\n",
       "      <td>40.719971</td>\n",
       "      <td>-74.012268</td>\n",
       "      <td>40.706718</td>\n",
       "      <td>N</td>\n",
       "      <td>429</td>\n",
       "    </tr>\n",
       "    <tr>\n",
       "      <th>4</th>\n",
       "      <td>id2181028</td>\n",
       "      <td>2</td>\n",
       "      <td>2016-03-26 13:30:55</td>\n",
       "      <td>2016-03-26 13:38:10</td>\n",
       "      <td>1</td>\n",
       "      <td>-73.973053</td>\n",
       "      <td>40.793209</td>\n",
       "      <td>-73.972923</td>\n",
       "      <td>40.782520</td>\n",
       "      <td>N</td>\n",
       "      <td>435</td>\n",
       "    </tr>\n",
       "  </tbody>\n",
       "</table>\n",
       "</div>"
      ],
      "text/plain": [
       "          id  vendor_id      pickup_datetime     dropoff_datetime  \\\n",
       "0  id2875421          2  2016-03-14 17:24:55  2016-03-14 17:32:30   \n",
       "1  id2377394          1  2016-06-12 00:43:35  2016-06-12 00:54:38   \n",
       "2  id3858529          2  2016-01-19 11:35:24  2016-01-19 12:10:48   \n",
       "3  id3504673          2  2016-04-06 19:32:31  2016-04-06 19:39:40   \n",
       "4  id2181028          2  2016-03-26 13:30:55  2016-03-26 13:38:10   \n",
       "\n",
       "   passenger_count  pickup_longitude  pickup_latitude  dropoff_longitude  \\\n",
       "0                1        -73.982155        40.767937         -73.964630   \n",
       "1                1        -73.980415        40.738564         -73.999481   \n",
       "2                1        -73.979027        40.763939         -74.005333   \n",
       "3                1        -74.010040        40.719971         -74.012268   \n",
       "4                1        -73.973053        40.793209         -73.972923   \n",
       "\n",
       "   dropoff_latitude store_and_fwd_flag  trip_duration  \n",
       "0         40.765602                  N            455  \n",
       "1         40.731152                  N            663  \n",
       "2         40.710087                  N           2124  \n",
       "3         40.706718                  N            429  \n",
       "4         40.782520                  N            435  "
      ]
     },
     "execution_count": 29,
     "metadata": {},
     "output_type": "execute_result"
    }
   ],
   "source": [
    "df.head()"
   ]
  },
  {
   "cell_type": "markdown",
   "id": "883cbf47",
   "metadata": {},
   "source": [
    "# Looking at the data types and null values of the columns in the dataframe"
   ]
  },
  {
   "cell_type": "code",
   "execution_count": 30,
   "id": "8ce4216c",
   "metadata": {},
   "outputs": [
    {
     "name": "stdout",
     "output_type": "stream",
     "text": [
      "<class 'pandas.core.frame.DataFrame'>\n",
      "RangeIndex: 1458644 entries, 0 to 1458643\n",
      "Data columns (total 11 columns):\n",
      " #   Column              Non-Null Count    Dtype  \n",
      "---  ------              --------------    -----  \n",
      " 0   id                  1458644 non-null  object \n",
      " 1   vendor_id           1458644 non-null  int64  \n",
      " 2   pickup_datetime     1458644 non-null  object \n",
      " 3   dropoff_datetime    1458644 non-null  object \n",
      " 4   passenger_count     1458644 non-null  int64  \n",
      " 5   pickup_longitude    1458644 non-null  float64\n",
      " 6   pickup_latitude     1458644 non-null  float64\n",
      " 7   dropoff_longitude   1458644 non-null  float64\n",
      " 8   dropoff_latitude    1458644 non-null  float64\n",
      " 9   store_and_fwd_flag  1458644 non-null  object \n",
      " 10  trip_duration       1458644 non-null  int64  \n",
      "dtypes: float64(4), int64(3), object(4)\n",
      "memory usage: 122.4+ MB\n"
     ]
    }
   ],
   "source": [
    "df.info()"
   ]
  },
  {
   "cell_type": "markdown",
   "id": "2738e2c7",
   "metadata": {},
   "source": [
    "# Converting pickup_datetime and dropoff_datetime to datetime type"
   ]
  },
  {
   "cell_type": "code",
   "execution_count": 31,
   "id": "dc6da559",
   "metadata": {},
   "outputs": [],
   "source": [
    "df['pickup_datetime'] = pd.to_datetime(df['pickup_datetime'])\n",
    "df['dropoff_datetime'] = pd.to_datetime(df['dropoff_datetime'])"
   ]
  },
  {
   "cell_type": "code",
   "execution_count": 32,
   "id": "b777acca",
   "metadata": {},
   "outputs": [
    {
     "data": {
      "text/plain": [
       "id                            object\n",
       "vendor_id                      int64\n",
       "pickup_datetime       datetime64[ns]\n",
       "dropoff_datetime      datetime64[ns]\n",
       "passenger_count                int64\n",
       "pickup_longitude             float64\n",
       "pickup_latitude              float64\n",
       "dropoff_longitude            float64\n",
       "dropoff_latitude             float64\n",
       "store_and_fwd_flag            object\n",
       "trip_duration                  int64\n",
       "dtype: object"
      ]
     },
     "execution_count": 32,
     "metadata": {},
     "output_type": "execute_result"
    }
   ],
   "source": [
    "df.dtypes"
   ]
  },
  {
   "cell_type": "markdown",
   "id": "4e12fdba",
   "metadata": {},
   "source": [
    "# Creating a list of all numerical columns for potential direct use in further analysis if needed"
   ]
  },
  {
   "cell_type": "code",
   "execution_count": 33,
   "id": "4fca31c3",
   "metadata": {},
   "outputs": [],
   "source": [
    "numerical_columns = ['trip_durtion', 'passenger_count', 'pickup_longitude', 'pickup_latitude', 'dropoff_longitude', 'dropoff_latitude']"
   ]
  },
  {
   "cell_type": "markdown",
   "id": "f58f1c4f",
   "metadata": {},
   "source": [
    "# Statistical factors of the dataframe"
   ]
  },
  {
   "cell_type": "code",
   "execution_count": 34,
   "id": "244f051a",
   "metadata": {},
   "outputs": [
    {
     "data": {
      "text/html": [
       "<div>\n",
       "<style scoped>\n",
       "    .dataframe tbody tr th:only-of-type {\n",
       "        vertical-align: middle;\n",
       "    }\n",
       "\n",
       "    .dataframe tbody tr th {\n",
       "        vertical-align: top;\n",
       "    }\n",
       "\n",
       "    .dataframe thead th {\n",
       "        text-align: right;\n",
       "    }\n",
       "</style>\n",
       "<table border=\"1\" class=\"dataframe\">\n",
       "  <thead>\n",
       "    <tr style=\"text-align: right;\">\n",
       "      <th></th>\n",
       "      <th>vendor_id</th>\n",
       "      <th>pickup_datetime</th>\n",
       "      <th>dropoff_datetime</th>\n",
       "      <th>passenger_count</th>\n",
       "      <th>pickup_longitude</th>\n",
       "      <th>pickup_latitude</th>\n",
       "      <th>dropoff_longitude</th>\n",
       "      <th>dropoff_latitude</th>\n",
       "      <th>trip_duration</th>\n",
       "    </tr>\n",
       "  </thead>\n",
       "  <tbody>\n",
       "    <tr>\n",
       "      <th>count</th>\n",
       "      <td>1.458644e+06</td>\n",
       "      <td>1458644</td>\n",
       "      <td>1458644</td>\n",
       "      <td>1.458644e+06</td>\n",
       "      <td>1.458644e+06</td>\n",
       "      <td>1.458644e+06</td>\n",
       "      <td>1.458644e+06</td>\n",
       "      <td>1.458644e+06</td>\n",
       "      <td>1.458644e+06</td>\n",
       "    </tr>\n",
       "    <tr>\n",
       "      <th>mean</th>\n",
       "      <td>1.534950e+00</td>\n",
       "      <td>2016-04-01 10:10:24.940037120</td>\n",
       "      <td>2016-04-01 10:26:24.432310528</td>\n",
       "      <td>1.664530e+00</td>\n",
       "      <td>-7.397349e+01</td>\n",
       "      <td>4.075092e+01</td>\n",
       "      <td>-7.397342e+01</td>\n",
       "      <td>4.075180e+01</td>\n",
       "      <td>9.594923e+02</td>\n",
       "    </tr>\n",
       "    <tr>\n",
       "      <th>min</th>\n",
       "      <td>1.000000e+00</td>\n",
       "      <td>2016-01-01 00:00:17</td>\n",
       "      <td>2016-01-01 00:03:31</td>\n",
       "      <td>0.000000e+00</td>\n",
       "      <td>-1.219333e+02</td>\n",
       "      <td>3.435970e+01</td>\n",
       "      <td>-1.219333e+02</td>\n",
       "      <td>3.218114e+01</td>\n",
       "      <td>1.000000e+00</td>\n",
       "    </tr>\n",
       "    <tr>\n",
       "      <th>25%</th>\n",
       "      <td>1.000000e+00</td>\n",
       "      <td>2016-02-17 16:46:04.249999872</td>\n",
       "      <td>2016-02-17 17:05:32.500000</td>\n",
       "      <td>1.000000e+00</td>\n",
       "      <td>-7.399187e+01</td>\n",
       "      <td>4.073735e+01</td>\n",
       "      <td>-7.399133e+01</td>\n",
       "      <td>4.073588e+01</td>\n",
       "      <td>3.970000e+02</td>\n",
       "    </tr>\n",
       "    <tr>\n",
       "      <th>50%</th>\n",
       "      <td>2.000000e+00</td>\n",
       "      <td>2016-04-01 17:19:40</td>\n",
       "      <td>2016-04-01 17:35:12</td>\n",
       "      <td>1.000000e+00</td>\n",
       "      <td>-7.398174e+01</td>\n",
       "      <td>4.075410e+01</td>\n",
       "      <td>-7.397975e+01</td>\n",
       "      <td>4.075452e+01</td>\n",
       "      <td>6.620000e+02</td>\n",
       "    </tr>\n",
       "    <tr>\n",
       "      <th>75%</th>\n",
       "      <td>2.000000e+00</td>\n",
       "      <td>2016-05-15 03:56:08.750000128</td>\n",
       "      <td>2016-05-15 04:10:51.750000128</td>\n",
       "      <td>2.000000e+00</td>\n",
       "      <td>-7.396733e+01</td>\n",
       "      <td>4.076836e+01</td>\n",
       "      <td>-7.396301e+01</td>\n",
       "      <td>4.076981e+01</td>\n",
       "      <td>1.075000e+03</td>\n",
       "    </tr>\n",
       "    <tr>\n",
       "      <th>max</th>\n",
       "      <td>2.000000e+00</td>\n",
       "      <td>2016-06-30 23:59:39</td>\n",
       "      <td>2016-07-01 23:02:03</td>\n",
       "      <td>9.000000e+00</td>\n",
       "      <td>-6.133553e+01</td>\n",
       "      <td>5.188108e+01</td>\n",
       "      <td>-6.133553e+01</td>\n",
       "      <td>4.392103e+01</td>\n",
       "      <td>3.526282e+06</td>\n",
       "    </tr>\n",
       "    <tr>\n",
       "      <th>std</th>\n",
       "      <td>4.987772e-01</td>\n",
       "      <td>NaN</td>\n",
       "      <td>NaN</td>\n",
       "      <td>1.314242e+00</td>\n",
       "      <td>7.090186e-02</td>\n",
       "      <td>3.288119e-02</td>\n",
       "      <td>7.064327e-02</td>\n",
       "      <td>3.589056e-02</td>\n",
       "      <td>5.237432e+03</td>\n",
       "    </tr>\n",
       "  </tbody>\n",
       "</table>\n",
       "</div>"
      ],
      "text/plain": [
       "          vendor_id                pickup_datetime  \\\n",
       "count  1.458644e+06                        1458644   \n",
       "mean   1.534950e+00  2016-04-01 10:10:24.940037120   \n",
       "min    1.000000e+00            2016-01-01 00:00:17   \n",
       "25%    1.000000e+00  2016-02-17 16:46:04.249999872   \n",
       "50%    2.000000e+00            2016-04-01 17:19:40   \n",
       "75%    2.000000e+00  2016-05-15 03:56:08.750000128   \n",
       "max    2.000000e+00            2016-06-30 23:59:39   \n",
       "std    4.987772e-01                            NaN   \n",
       "\n",
       "                    dropoff_datetime  passenger_count  pickup_longitude  \\\n",
       "count                        1458644     1.458644e+06      1.458644e+06   \n",
       "mean   2016-04-01 10:26:24.432310528     1.664530e+00     -7.397349e+01   \n",
       "min              2016-01-01 00:03:31     0.000000e+00     -1.219333e+02   \n",
       "25%       2016-02-17 17:05:32.500000     1.000000e+00     -7.399187e+01   \n",
       "50%              2016-04-01 17:35:12     1.000000e+00     -7.398174e+01   \n",
       "75%    2016-05-15 04:10:51.750000128     2.000000e+00     -7.396733e+01   \n",
       "max              2016-07-01 23:02:03     9.000000e+00     -6.133553e+01   \n",
       "std                              NaN     1.314242e+00      7.090186e-02   \n",
       "\n",
       "       pickup_latitude  dropoff_longitude  dropoff_latitude  trip_duration  \n",
       "count     1.458644e+06       1.458644e+06      1.458644e+06   1.458644e+06  \n",
       "mean      4.075092e+01      -7.397342e+01      4.075180e+01   9.594923e+02  \n",
       "min       3.435970e+01      -1.219333e+02      3.218114e+01   1.000000e+00  \n",
       "25%       4.073735e+01      -7.399133e+01      4.073588e+01   3.970000e+02  \n",
       "50%       4.075410e+01      -7.397975e+01      4.075452e+01   6.620000e+02  \n",
       "75%       4.076836e+01      -7.396301e+01      4.076981e+01   1.075000e+03  \n",
       "max       5.188108e+01      -6.133553e+01      4.392103e+01   3.526282e+06  \n",
       "std       3.288119e-02       7.064327e-02      3.589056e-02   5.237432e+03  "
      ]
     },
     "execution_count": 34,
     "metadata": {},
     "output_type": "execute_result"
    }
   ],
   "source": [
    "df.describe()"
   ]
  },
  {
   "cell_type": "markdown",
   "id": "602bf540",
   "metadata": {},
   "source": [
    "# Checking the number of columns and rows available in the dataframe"
   ]
  },
  {
   "cell_type": "code",
   "execution_count": 35,
   "id": "78780f27",
   "metadata": {},
   "outputs": [
    {
     "data": {
      "text/plain": [
       "(1458644, 11)"
      ]
     },
     "execution_count": 35,
     "metadata": {},
     "output_type": "execute_result"
    }
   ],
   "source": [
    "df.shape"
   ]
  },
  {
   "cell_type": "markdown",
   "id": "a70247ce",
   "metadata": {},
   "source": [
    "# Removing Duplicates from dataframe"
   ]
  },
  {
   "cell_type": "code",
   "execution_count": 36,
   "id": "2e079320",
   "metadata": {},
   "outputs": [
    {
     "data": {
      "text/plain": [
       "(1458644, 11)"
      ]
     },
     "execution_count": 36,
     "metadata": {},
     "output_type": "execute_result"
    }
   ],
   "source": [
    "df.drop_duplicates(inplace=True)\n",
    "df.shape"
   ]
  },
  {
   "cell_type": "markdown",
   "id": "ded8dbda",
   "metadata": {},
   "source": [
    "# It's not logically possible for people to take a trip lasting just 59 seconds, as trip_duration is measured in seconds. Therefore, we will remove rows from the dataframe where the duration is less than 59 seconds."
   ]
  },
  {
   "cell_type": "code",
   "execution_count": 37,
   "id": "a5f1f627",
   "metadata": {},
   "outputs": [],
   "source": [
    "df = df[df['trip_duration'] >= 59]"
   ]
  },
  {
   "cell_type": "markdown",
   "id": "726f8204",
   "metadata": {},
   "source": [
    "# Checking the shape again to identify the data we lost"
   ]
  },
  {
   "cell_type": "code",
   "execution_count": 38,
   "id": "05c5fd71",
   "metadata": {},
   "outputs": [
    {
     "data": {
      "text/plain": [
       "(1450204, 11)"
      ]
     },
     "execution_count": 38,
     "metadata": {},
     "output_type": "execute_result"
    }
   ],
   "source": [
    "df.shape"
   ]
  },
  {
   "cell_type": "code",
   "execution_count": 39,
   "id": "fd5cb81f",
   "metadata": {},
   "outputs": [
    {
     "data": {
      "text/plain": [
       "0.5786195946372032"
      ]
     },
     "execution_count": 39,
     "metadata": {},
     "output_type": "execute_result"
    }
   ],
   "source": [
    "100-(1450204/1458644)*100"
   ]
  },
  {
   "cell_type": "markdown",
   "id": "94b0b789",
   "metadata": {},
   "source": [
    "# Summary\n",
    "\n",
    "After cleaning up the unnecessary rows, we lost approximately less than 1% of the data, which is negligible"
   ]
  },
  {
   "cell_type": "markdown",
   "id": "7a7ca4d1",
   "metadata": {},
   "source": []
  },
  {
   "cell_type": "markdown",
   "id": "21f57e32",
   "metadata": {},
   "source": [
    "# Creating sub-columns from the pickup and dropoff columns to enable day-wise and month-wise analysis. Additionally, I've converted the trip duration from seconds to hours to make it more suitable for generalization"
   ]
  },
  {
   "cell_type": "code",
   "execution_count": 40,
   "id": "41004ec4",
   "metadata": {},
   "outputs": [],
   "source": [
    "df['pickup_day'] = df['pickup_datetime'].dt.day_name()\n",
    "df['pickup_hour'] = df['pickup_datetime'].dt.hour\n",
    "df['pickup_month'] = df['pickup_datetime'].dt.month_name()"
   ]
  },
  {
   "cell_type": "code",
   "execution_count": 41,
   "id": "a94d25e7",
   "metadata": {},
   "outputs": [],
   "source": [
    "df['dropoff_day'] = df['dropoff_datetime'].dt.day_name()\n",
    "df['dropoff_hour'] = df['dropoff_datetime'].dt.hour\n",
    "df['dropoff_month'] = df['dropoff_datetime'].dt.month_name()"
   ]
  },
  {
   "cell_type": "markdown",
   "id": "0632fc25",
   "metadata": {},
   "source": [
    "# Checking the dataframe again to see our newly added columns."
   ]
  },
  {
   "cell_type": "code",
   "execution_count": 42,
   "id": "c3f335a3",
   "metadata": {},
   "outputs": [
    {
     "data": {
      "text/html": [
       "<div>\n",
       "<style scoped>\n",
       "    .dataframe tbody tr th:only-of-type {\n",
       "        vertical-align: middle;\n",
       "    }\n",
       "\n",
       "    .dataframe tbody tr th {\n",
       "        vertical-align: top;\n",
       "    }\n",
       "\n",
       "    .dataframe thead th {\n",
       "        text-align: right;\n",
       "    }\n",
       "</style>\n",
       "<table border=\"1\" class=\"dataframe\">\n",
       "  <thead>\n",
       "    <tr style=\"text-align: right;\">\n",
       "      <th></th>\n",
       "      <th>id</th>\n",
       "      <th>vendor_id</th>\n",
       "      <th>pickup_datetime</th>\n",
       "      <th>dropoff_datetime</th>\n",
       "      <th>passenger_count</th>\n",
       "      <th>pickup_longitude</th>\n",
       "      <th>pickup_latitude</th>\n",
       "      <th>dropoff_longitude</th>\n",
       "      <th>dropoff_latitude</th>\n",
       "      <th>store_and_fwd_flag</th>\n",
       "      <th>trip_duration</th>\n",
       "      <th>pickup_day</th>\n",
       "      <th>pickup_hour</th>\n",
       "      <th>pickup_month</th>\n",
       "      <th>dropoff_day</th>\n",
       "      <th>dropoff_hour</th>\n",
       "      <th>dropoff_month</th>\n",
       "    </tr>\n",
       "  </thead>\n",
       "  <tbody>\n",
       "    <tr>\n",
       "      <th>0</th>\n",
       "      <td>id2875421</td>\n",
       "      <td>2</td>\n",
       "      <td>2016-03-14 17:24:55</td>\n",
       "      <td>2016-03-14 17:32:30</td>\n",
       "      <td>1</td>\n",
       "      <td>-73.982155</td>\n",
       "      <td>40.767937</td>\n",
       "      <td>-73.964630</td>\n",
       "      <td>40.765602</td>\n",
       "      <td>N</td>\n",
       "      <td>455</td>\n",
       "      <td>Monday</td>\n",
       "      <td>17</td>\n",
       "      <td>March</td>\n",
       "      <td>Monday</td>\n",
       "      <td>17</td>\n",
       "      <td>March</td>\n",
       "    </tr>\n",
       "    <tr>\n",
       "      <th>1</th>\n",
       "      <td>id2377394</td>\n",
       "      <td>1</td>\n",
       "      <td>2016-06-12 00:43:35</td>\n",
       "      <td>2016-06-12 00:54:38</td>\n",
       "      <td>1</td>\n",
       "      <td>-73.980415</td>\n",
       "      <td>40.738564</td>\n",
       "      <td>-73.999481</td>\n",
       "      <td>40.731152</td>\n",
       "      <td>N</td>\n",
       "      <td>663</td>\n",
       "      <td>Sunday</td>\n",
       "      <td>0</td>\n",
       "      <td>June</td>\n",
       "      <td>Sunday</td>\n",
       "      <td>0</td>\n",
       "      <td>June</td>\n",
       "    </tr>\n",
       "    <tr>\n",
       "      <th>2</th>\n",
       "      <td>id3858529</td>\n",
       "      <td>2</td>\n",
       "      <td>2016-01-19 11:35:24</td>\n",
       "      <td>2016-01-19 12:10:48</td>\n",
       "      <td>1</td>\n",
       "      <td>-73.979027</td>\n",
       "      <td>40.763939</td>\n",
       "      <td>-74.005333</td>\n",
       "      <td>40.710087</td>\n",
       "      <td>N</td>\n",
       "      <td>2124</td>\n",
       "      <td>Tuesday</td>\n",
       "      <td>11</td>\n",
       "      <td>January</td>\n",
       "      <td>Tuesday</td>\n",
       "      <td>12</td>\n",
       "      <td>January</td>\n",
       "    </tr>\n",
       "    <tr>\n",
       "      <th>3</th>\n",
       "      <td>id3504673</td>\n",
       "      <td>2</td>\n",
       "      <td>2016-04-06 19:32:31</td>\n",
       "      <td>2016-04-06 19:39:40</td>\n",
       "      <td>1</td>\n",
       "      <td>-74.010040</td>\n",
       "      <td>40.719971</td>\n",
       "      <td>-74.012268</td>\n",
       "      <td>40.706718</td>\n",
       "      <td>N</td>\n",
       "      <td>429</td>\n",
       "      <td>Wednesday</td>\n",
       "      <td>19</td>\n",
       "      <td>April</td>\n",
       "      <td>Wednesday</td>\n",
       "      <td>19</td>\n",
       "      <td>April</td>\n",
       "    </tr>\n",
       "    <tr>\n",
       "      <th>4</th>\n",
       "      <td>id2181028</td>\n",
       "      <td>2</td>\n",
       "      <td>2016-03-26 13:30:55</td>\n",
       "      <td>2016-03-26 13:38:10</td>\n",
       "      <td>1</td>\n",
       "      <td>-73.973053</td>\n",
       "      <td>40.793209</td>\n",
       "      <td>-73.972923</td>\n",
       "      <td>40.782520</td>\n",
       "      <td>N</td>\n",
       "      <td>435</td>\n",
       "      <td>Saturday</td>\n",
       "      <td>13</td>\n",
       "      <td>March</td>\n",
       "      <td>Saturday</td>\n",
       "      <td>13</td>\n",
       "      <td>March</td>\n",
       "    </tr>\n",
       "  </tbody>\n",
       "</table>\n",
       "</div>"
      ],
      "text/plain": [
       "          id  vendor_id     pickup_datetime    dropoff_datetime  \\\n",
       "0  id2875421          2 2016-03-14 17:24:55 2016-03-14 17:32:30   \n",
       "1  id2377394          1 2016-06-12 00:43:35 2016-06-12 00:54:38   \n",
       "2  id3858529          2 2016-01-19 11:35:24 2016-01-19 12:10:48   \n",
       "3  id3504673          2 2016-04-06 19:32:31 2016-04-06 19:39:40   \n",
       "4  id2181028          2 2016-03-26 13:30:55 2016-03-26 13:38:10   \n",
       "\n",
       "   passenger_count  pickup_longitude  pickup_latitude  dropoff_longitude  \\\n",
       "0                1        -73.982155        40.767937         -73.964630   \n",
       "1                1        -73.980415        40.738564         -73.999481   \n",
       "2                1        -73.979027        40.763939         -74.005333   \n",
       "3                1        -74.010040        40.719971         -74.012268   \n",
       "4                1        -73.973053        40.793209         -73.972923   \n",
       "\n",
       "   dropoff_latitude store_and_fwd_flag  trip_duration pickup_day  pickup_hour  \\\n",
       "0         40.765602                  N            455     Monday           17   \n",
       "1         40.731152                  N            663     Sunday            0   \n",
       "2         40.710087                  N           2124    Tuesday           11   \n",
       "3         40.706718                  N            429  Wednesday           19   \n",
       "4         40.782520                  N            435   Saturday           13   \n",
       "\n",
       "  pickup_month dropoff_day  dropoff_hour dropoff_month  \n",
       "0        March      Monday            17         March  \n",
       "1         June      Sunday             0          June  \n",
       "2      January     Tuesday            12       January  \n",
       "3        April   Wednesday            19         April  \n",
       "4        March    Saturday            13         March  "
      ]
     },
     "execution_count": 42,
     "metadata": {},
     "output_type": "execute_result"
    }
   ],
   "source": [
    "df.head()"
   ]
  },
  {
   "cell_type": "markdown",
   "id": "db4ebe8b",
   "metadata": {},
   "source": [
    "# checking datatype"
   ]
  },
  {
   "cell_type": "code",
   "execution_count": 43,
   "id": "df799fef",
   "metadata": {},
   "outputs": [
    {
     "data": {
      "text/plain": [
       "id                            object\n",
       "vendor_id                      int64\n",
       "pickup_datetime       datetime64[ns]\n",
       "dropoff_datetime      datetime64[ns]\n",
       "passenger_count                int64\n",
       "pickup_longitude             float64\n",
       "pickup_latitude              float64\n",
       "dropoff_longitude            float64\n",
       "dropoff_latitude             float64\n",
       "store_and_fwd_flag            object\n",
       "trip_duration                  int64\n",
       "pickup_day                    object\n",
       "pickup_hour                    int32\n",
       "pickup_month                  object\n",
       "dropoff_day                   object\n",
       "dropoff_hour                   int32\n",
       "dropoff_month                 object\n",
       "dtype: object"
      ]
     },
     "execution_count": 43,
     "metadata": {},
     "output_type": "execute_result"
    }
   ],
   "source": [
    "df.dtypes"
   ]
  },
  {
   "cell_type": "markdown",
   "id": "cbdf691c",
   "metadata": {},
   "source": [
    "# Analyzing the trend to identify which days have the highest and lowest number of pickups"
   ]
  },
  {
   "cell_type": "code",
   "execution_count": 44,
   "id": "505b46f7",
   "metadata": {},
   "outputs": [
    {
     "data": {
      "text/plain": [
       "Day_name\n",
       "Friday       222265\n",
       "Saturday     219622\n",
       "Thursday     217281\n",
       "Wednesday    209043\n",
       "Tuesday      201639\n",
       "Sunday       194053\n",
       "Monday       186301\n",
       "Name: count, dtype: int64"
      ]
     },
     "execution_count": 44,
     "metadata": {},
     "output_type": "execute_result"
    }
   ],
   "source": [
    "df['Day_name'] = df['pickup_day'].astype('category')\n",
    "df['Day_name'].value_counts()"
   ]
  },
  {
   "cell_type": "code",
   "execution_count": 45,
   "id": "50865686",
   "metadata": {},
   "outputs": [
    {
     "data": {
      "image/png": "[encoded data removed]",
      "text/plain": [
       "<Figure size 800x600 with 1 Axes>"
      ]
     },
     "metadata": {},
     "output_type": "display_data"
    }
   ],
   "source": [
    "plt.figure(figsize=(8,6))\n",
    "sns.lineplot(x='pickup_day', y='trip_duration', data=df)\n",
    "plt.title('Line Plot of Trip Duration by Pickup Day')\n",
    "plt.show()\n"
   ]
  },
  {
   "cell_type": "markdown",
   "id": "61ef38f5",
   "metadata": {},
   "source": [
    "# Summary \n",
    "\n",
    "It is observed that Thursday has the highest number of pickups, followed by Friday. Conversely, Monday has the least number of pickups."
   ]
  },
  {
   "cell_type": "markdown",
   "id": "e0c0b7ba",
   "metadata": {},
   "source": []
  },
  {
   "cell_type": "code",
   "execution_count": 46,
   "id": "f432489c",
   "metadata": {},
   "outputs": [
    {
     "data": {
      "image/png": "[encoded data removed]",
      "text/plain": [
       "<Figure size 800x600 with 1 Axes>"
      ]
     },
     "metadata": {},
     "output_type": "display_data"
    }
   ],
   "source": [
    "plt.figure(figsize=(8, 6))\n",
    "PMC = sns.countplot(x='pickup_month', data=df)"
   ]
  },
  {
   "cell_type": "markdown",
   "id": "f0f013ce",
   "metadata": {},
   "source": [
    "# Summary \n",
    "\n",
    "March has the most pickups, followed by April. January has the fewest pickups. This shows a seasonal pattern, with more pickups in the summer, which is also the end and start of the financial year."
   ]
  },
  {
   "cell_type": "markdown",
   "id": "80bedf00",
   "metadata": {},
   "source": []
  },
  {
   "cell_type": "markdown",
   "id": "fee2bc60",
   "metadata": {},
   "source": [
    "# Traveler Group Sizes analysis"
   ]
  },
  {
   "cell_type": "code",
   "execution_count": 47,
   "id": "517477da",
   "metadata": {},
   "outputs": [
    {
     "data": {
      "image/png": "[encoded data removed]",
      "text/plain": [
       "<Figure size 800x600 with 1 Axes>"
      ]
     },
     "metadata": {},
     "output_type": "display_data"
    }
   ],
   "source": [
    "plt.figure(figsize=(8, 6))\n",
    "sns.histplot(df['passenger_count'], bins=len(df['passenger_count'].unique()), kde=False)\n",
    "plt.title('Histogram of Passenger Count')\n",
    "plt.xlabel('Passenger Count')\n",
    "plt.ylabel('Frequency')\n",
    "plt.show()"
   ]
  },
  {
   "cell_type": "markdown",
   "id": "6b31657e",
   "metadata": {},
   "source": [
    "# Summary \n",
    "\n",
    "In summary, most people tend to travel alone rather than in groups."
   ]
  },
  {
   "cell_type": "markdown",
   "id": "21534fe5",
   "metadata": {},
   "source": []
  },
  {
   "cell_type": "markdown",
   "id": "0b12e46d",
   "metadata": {},
   "source": [
    "# Creating categories to show when people travel the most"
   ]
  },
  {
   "cell_type": "code",
   "execution_count": 48,
   "id": "701f0326",
   "metadata": {},
   "outputs": [
    {
     "data": {
      "text/plain": [
       "pickup_prefered_time\n",
       "(18, 21]    0.189312\n",
       "(15, 18]    0.169297\n",
       "(12, 15]    0.159187\n",
       "(9, 12]     0.150628\n",
       "(6, 9]      0.139342\n",
       "(21, 24]    0.110004\n",
       "(1, 6]      0.082230\n",
       "Name: proportion, dtype: float64"
      ]
     },
     "execution_count": 48,
     "metadata": {},
     "output_type": "execute_result"
    }
   ],
   "source": [
    "df['pickup_prefered_time'] = pd.cut(x = df['pickup_hour'],bins=[1,6,9,12,15,18,21,24])\n",
    "\n",
    "df['pickup_prefered_time'].value_counts(normalize=True)"
   ]
  },
  {
   "cell_type": "code",
   "execution_count": 49,
   "id": "f3128a3c",
   "metadata": {},
   "outputs": [
    {
     "data": {
      "text/plain": [
       "<Axes: xlabel='pickup_prefered_time', ylabel='count'>"
      ]
     },
     "execution_count": 49,
     "metadata": {},
     "output_type": "execute_result"
    },
    {
     "data": {
      "image/png": "[encoded data removed]",
      "text/plain": [
       "<Figure size 800x600 with 1 Axes>"
      ]
     },
     "metadata": {},
     "output_type": "display_data"
    }
   ],
   "source": [
    "plt.figure(figsize=(8, 6))\n",
    "sns.countplot(x='pickup_prefered_time',data=df)"
   ]
  },
  {
   "cell_type": "markdown",
   "id": "467dfa1c",
   "metadata": {},
   "source": [
    "# Summary\n",
    "\n",
    "In the above plot, we observe that people mostly travel between 18:00 and 21:00, with the least activity occurring between 01:00 and 06:00"
   ]
  },
  {
   "cell_type": "markdown",
   "id": "b830ee0d",
   "metadata": {},
   "source": []
  },
  {
   "cell_type": "markdown",
   "id": "3aeb5ddc",
   "metadata": {},
   "source": [
    "# Vendor Performance Overview"
   ]
  },
  {
   "cell_type": "code",
   "execution_count": 50,
   "id": "8f301a6e",
   "metadata": {},
   "outputs": [
    {
     "data": {
      "text/plain": [
       "vendor_id\n",
       "2    776872\n",
       "1    673332\n",
       "Name: count, dtype: int64"
      ]
     },
     "execution_count": 50,
     "metadata": {},
     "output_type": "execute_result"
    }
   ],
   "source": [
    "df['vendor_id'].value_counts()"
   ]
  },
  {
   "cell_type": "code",
   "execution_count": 51,
   "id": "7aa1e548",
   "metadata": {},
   "outputs": [
    {
     "data": {
      "image/png": "[encoded data removed]",
      "text/plain": [
       "<Figure size 800x600 with 1 Axes>"
      ]
     },
     "metadata": {},
     "output_type": "display_data"
    }
   ],
   "source": [
    "vendor_counts = df['vendor_id'].value_counts()\n",
    "\n",
    "# Plot using a pie chart\n",
    "plt.figure(figsize=(8, 6))\n",
    "plt.pie(vendor_counts, labels=vendor_counts.index, autopct='%1.1f%%', startangle=140)\n",
    "plt.title('Count of Occurrences by Vendor')\n",
    "plt.axis('equal')  \n",
    "plt.show()"
   ]
  },
  {
   "cell_type": "code",
   "execution_count": 52,
   "id": "451dc1d8",
   "metadata": {},
   "outputs": [
    {
     "data": {
      "image/png": "[encoded data removed]",
      "text/plain": [
       "<Figure size 1000x600 with 1 Axes>"
      ]
     },
     "metadata": {},
     "output_type": "display_data"
    }
   ],
   "source": [
    "plt.figure(figsize=(10, 6))\n",
    "sns.barplot(x='vendor_id', y=df['trip_duration'] / 60, data=df)  # converting seconds to minutes\n",
    "plt.title('Trip Duration by Vendor')\n",
    "plt.xlabel('Vendor ID')\n",
    "plt.ylabel('Trip Duration (minutes)')\n",
    "plt.show()"
   ]
  },
  {
   "cell_type": "markdown",
   "id": "d51aca5d",
   "metadata": {},
   "source": [
    "# Summary\n",
    "\n",
    "The vendor 2 has the highest number of trips and also the highest average trip duration"
   ]
  }
 ],
 "metadata": {
  "kernelspec": {
   "display_name": "Python 3 (ipykernel)",
   "language": "python",
   "name": "python3"
  },
  "language_info": {
   "codemirror_mode": {
    "name": "ipython",
    "version": 3
   },
   "file_extension": ".py",
   "mimetype": "text/x-python",
   "name": "python",
   "nbconvert_exporter": "python",
   "pygments_lexer": "ipython3",
   "version": "3.11.5"
  }
 },
 "nbformat": 4,
 "nbformat_minor": 5
}
